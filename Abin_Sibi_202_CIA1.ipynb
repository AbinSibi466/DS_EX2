{
  "nbformat": 4,
  "nbformat_minor": 0,
  "metadata": {
    "colab": {
      "provenance": [],
      "authorship_tag": "ABX9TyMnd6BVUoW9bKc1t1Ere0eZ",
      "include_colab_link": true
    },
    "kernelspec": {
      "name": "python3",
      "display_name": "Python 3"
    },
    "language_info": {
      "name": "python"
    }
  },
  "cells": [
    {
      "cell_type": "markdown",
      "metadata": {
        "id": "view-in-github",
        "colab_type": "text"
      },
      "source": [
        "<a href=\"https://colab.research.google.com/github/AbinSibi466/DS_EX2/blob/main/Abin_Sibi_202_CIA1.ipynb\" target=\"_parent\"><img src=\"https://colab.research.google.com/assets/colab-badge.svg\" alt=\"Open In Colab\"/></a>"
      ]
    },
    {
      "cell_type": "markdown",
      "source": [
        "**II. Implement the following:**\n",
        "(Implementation 5 marks and Visualization and documentation 5 marks)\n",
        "\n",
        "• Scenario:\n",
        "The XOR gate is known for its complexity, as it outputs 1 only when the inputs are different.\n",
        "This is a challenge for a Single Layer Perceptron since XOR is not linearly separable.\n",
        "\n",
        "• Lab Task: Attempt to implement a Single Layer Perceptron in Google Colab to classify the\n",
        "output of an XOR gate.\n",
        "Perform the following steps:\n",
        "• Create the XOR gate's truth table dataset.\n"
      ],
      "metadata": {
        "id": "zV9rje9CInYd"
      }
    },
    {
      "cell_type": "code",
      "source": [
        "import numpy as np\n",
        "\n",
        "X = np.array([[0, 0], [0, 1], [1, 0], [1, 1]])\n",
        "y = np.array([0, 1, 1, 0])\n",
        "\n",
        "weights = np.random.rand(2)\n",
        "bias = np.random.rand(1)\n",
        "\n",
        "learning_rate = 0.1\n",
        "\n",
        "\n"
      ],
      "metadata": {
        "id": "C8NXi_bZGDWv"
      },
      "execution_count": 22,
      "outputs": []
    },
    {
      "cell_type": "code",
      "source": [
        "def activation_function(x):\n",
        "  return 1 if x >= 0 else 0\n",
        "\n",
        "for epoch in range(100):\n",
        "  for i in range(len(X)):\n",
        "    weighted_sum = np.dot(X[i], weights) + bias\n",
        "\n",
        "    output = activation_function(weighted_sum)\n",
        "\n",
        "    error = y[i] - output\n",
        "\n",
        "    weights += learning_rate * error * X[i]\n",
        "    bias += learning_rate * error"
      ],
      "metadata": {
        "id": "7eXfd94MHHdL"
      },
      "execution_count": 23,
      "outputs": []
    },
    {
      "cell_type": "code",
      "source": [
        "for i in range(len(X)):\n",
        "  weighted_sum = np.dot(X[i], weights) + bias\n",
        "  output = activation_function(weighted_sum)\n",
        "  print(f\"Input: {X[i]}, Output: {output}, Expected: {y[i]}\")"
      ],
      "metadata": {
        "colab": {
          "base_uri": "https://localhost:8080/"
        },
        "id": "GM6QkqOFHKDG",
        "outputId": "c0e3baaf-77a6-4c35-d917-1f72c11bcce8"
      },
      "execution_count": 24,
      "outputs": [
        {
          "output_type": "stream",
          "name": "stdout",
          "text": [
            "Input: [0 0], Output: 1, Expected: 0\n",
            "Input: [0 1], Output: 1, Expected: 1\n",
            "Input: [1 0], Output: 0, Expected: 1\n",
            "Input: [1 1], Output: 0, Expected: 0\n"
          ]
        }
      ]
    },
    {
      "cell_type": "markdown",
      "source": [
        "• Implement the perceptron model and train it using the XOR dataset using MCP (McCulloch\n",
        "Pitts) Neuron.\n"
      ],
      "metadata": {
        "id": "TJoIG4YPI22r"
      }
    },
    {
      "cell_type": "code",
      "source": [
        "import numpy as np\n",
        "\n",
        "X_xor = np.array([[0, 0], [0, 1], [1, 0], [1, 1]])\n",
        "y_xor = np.array([0, 1, 1, 0])\n"
      ],
      "metadata": {
        "id": "NujWy9LbGRQo"
      },
      "execution_count": 25,
      "outputs": []
    },
    {
      "cell_type": "code",
      "source": [
        "weights = np.random.rand(2)\n",
        "bias = np.random.rand(1)\n",
        "\n",
        "learning_rate = 0.1\n",
        "\n",
        "def activation_function(x):\n",
        "  return 1 if x >= 0 else 0\n",
        "\n",
        "for epoch in range(100):\n",
        "  for i in range(len(X_xor)):\n",
        "    weighted_sum = np.dot(X_xor[i], weights) + bias\n",
        "\n",
        "    output = activation_function(weighted_sum)\n",
        "\n",
        "    error = y_xor[i] - output\n",
        "\n",
        "    weights += learning_rate * error * X_xor[i]\n",
        "    bias += learning_rate * error\n",
        "\n",
        "def activation_function(x):\n",
        "  return 1 if x >= 0 else 0\n",
        "\n",
        "for epoch in range(100):\n",
        "  for i in range(len(X)):\n",
        "    weighted_sum = np.dot(X[i], weights) + bias\n",
        "\n",
        "    output = activation_function(weighted_sum)\n",
        "\n",
        "    error = y[i] - output\n",
        "\n",
        "    weights += learning_rate * error * X[i]\n",
        "    bias += learning_rate * error\n",
        "\n"
      ],
      "metadata": {
        "id": "zBIhuqsuGWHY"
      },
      "execution_count": 26,
      "outputs": []
    },
    {
      "cell_type": "code",
      "source": [
        "for i in range(len(X_xor)):\n",
        "  weighted_sum = np.dot(X_xor[i], weights) + bias\n",
        "  output = activation_function(weighted_sum)\n",
        "  print(f\"Input: {X_xor[i]}, Output: {output}, Expected: {y_xor[i]}\")"
      ],
      "metadata": {
        "colab": {
          "base_uri": "https://localhost:8080/"
        },
        "id": "ASxHaMavHZJO",
        "outputId": "0545cc6d-e803-4b49-c500-161b3e22a61b"
      },
      "execution_count": 27,
      "outputs": [
        {
          "output_type": "stream",
          "name": "stdout",
          "text": [
            "Input: [0 0], Output: 1, Expected: 0\n",
            "Input: [0 1], Output: 0, Expected: 1\n",
            "Input: [1 0], Output: 0, Expected: 1\n",
            "Input: [1 1], Output: 0, Expected: 0\n"
          ]
        }
      ]
    },
    {
      "cell_type": "markdown",
      "source": [
        "**Visualization**"
      ],
      "metadata": {
        "id": "7zrsoOkCMfb3"
      }
    },
    {
      "cell_type": "code",
      "source": [
        "import matplotlib.pyplot as plt\n",
        "plt.scatter(X_xor[:, 0], X_xor[:, 1], c=y_xor, cmap='viridis')\n",
        "plt.xlabel('Input 1')\n",
        "plt.ylabel('Input 2')\n",
        "plt.title('XOR Gate Data')\n",
        "x_values = np.linspace(-0.5, 1.5, 100)\n",
        "y_values = -(weights[0] / weights[1]) * x_values - (bias / weights[1])\n",
        "plt.plot(x_values, y_values, 'r--', label='Decision Boundary (Example)')\n",
        "\n",
        "plt.legend()\n",
        "plt.show()\n"
      ],
      "metadata": {
        "colab": {
          "base_uri": "https://localhost:8080/",
          "height": 472
        },
        "id": "parUfMw2MUyJ",
        "outputId": "d25f3b93-d33e-413a-b22f-27fcb9582efb"
      },
      "execution_count": 34,
      "outputs": [
        {
          "output_type": "display_data",
          "data": {
            "text/plain": [
              "<Figure size 640x480 with 1 Axes>"
            ],
            "image/png": "[encoded data removed]"
          },
          "metadata": {}
        }
      ]
    },
    {
      "cell_type": "markdown",
      "source": [
        "• Observe and discuss the perceptron's performance in this scenario.\n"
      ],
      "metadata": {
        "id": "OEUevpdlI8Mz"
      }
    },
    {
      "cell_type": "markdown",
      "source": [
        "The perceptron's performance in this scenario is not successful.\n",
        "It fails to perfectly learn the XOR function.\n",
        "\n",
        "XOR is not linearly separable, which means a single perceptron cannot correctly classify all four input combinations.\n",
        "\n",
        "The perceptron converges to a solution that can correctly classify some inputs but fails on others.\n",
        "\n",
        "This demonstrates the limitations of a single-layer perceptron and the need for more complex models like multi-layer perceptrons to handle non-linearly separable problems."
      ],
      "metadata": {
        "id": "9D6vhe9aLg5O"
      }
    },
    {
      "cell_type": "markdown",
      "source": [
        "• Implement XOR using Multi-Layer Perceptron."
      ],
      "metadata": {
        "id": "mPHYa8NmJAFc"
      }
    },
    {
      "cell_type": "code",
      "source": [
        "import numpy as np\n",
        "\n",
        "def sigmoid(x):\n",
        "  return 1 / (1 + np.exp(-x))\n",
        "\n",
        "def sigmoid_derivative(x):\n",
        "  return x * (1 - x)"
      ],
      "metadata": {
        "id": "m1Gxt7AeGpVn"
      },
      "execution_count": 28,
      "outputs": []
    },
    {
      "cell_type": "code",
      "source": [
        "X = np.array([[0, 0], [0, 1], [1, 0], [1, 1]])\n",
        "y = np.array([[0], [1], [1], [0]])\n",
        "\n",
        "input_neurons = 2\n",
        "hidden_neurons = 4\n",
        "output_neurons = 1\n",
        "\n",
        "weights_hidden = np.random.uniform(size=(input_neurons, hidden_neurons))\n",
        "bias_hidden = np.random.uniform(size=(1, hidden_neurons))\n",
        "weights_output = np.random.uniform(size=(hidden_neurons, output_neurons))\n",
        "bias_output = np.random.uniform(size=(1, output_neurons))\n",
        "\n",
        "learning_rate = 0.1"
      ],
      "metadata": {
        "id": "PjOMD6ilIGDs"
      },
      "execution_count": 29,
      "outputs": []
    },
    {
      "cell_type": "code",
      "source": [
        "for epoch in range(10000):\n",
        "  # Forward propagation\n",
        "  hidden_layer_activation = np.dot(X, weights_hidden) + bias_hidden\n",
        "  hidden_layer_output = sigmoid(hidden_layer_activation)\n",
        "  output_layer_activation = np.dot(hidden_layer_output, weights_output) + bias_output\n",
        "  predicted_output = sigmoid(output_layer_activation)\n",
        "\n",
        "  # Backpropagation\n",
        "  error = y - predicted_output\n",
        "  d_predicted_output = error * sigmoid_derivative(predicted_output)\n",
        "  error_hidden_layer = d_predicted_output.dot(weights_output.T)\n",
        "  d_hidden_layer = error_hidden_layer * sigmoid_derivative(hidden_layer_output)\n",
        "\n",
        "  # Update weights and biases\n",
        "  weights_output += hidden_layer_output.T.dot(d_predicted_output) * learning_rate\n",
        "  bias_output += np.sum(d_predicted_output, axis=0, keepdims=True) * learning_rate\n",
        "  weights_hidden += X.T.dot(d_hidden_layer) * learning_rate\n",
        "  bias_hidden += np.sum(d_hidden_layer, axis=0, keepdims=True) * learning_rate"
      ],
      "metadata": {
        "id": "6X_2Hkh3IM7q"
      },
      "execution_count": 30,
      "outputs": []
    },
    {
      "cell_type": "code",
      "source": [
        "# Test the multi-layer perceptron\n",
        "hidden_layer_activation = np.dot(X, weights_hidden) + bias_hidden\n",
        "hidden_layer_output = sigmoid(hidden_layer_activation)\n",
        "output_layer_activation = np.dot(hidden_layer_output, weights_output) + bias_output\n",
        "predicted_output = sigmoid(output_layer_activation)\n",
        "\n",
        "for i in range(len(X)):\n",
        "  print(f\"Input: {X[i]}, Output: {predicted_output[i]}, Expected: {y[i]}\")"
      ],
      "metadata": {
        "colab": {
          "base_uri": "https://localhost:8080/"
        },
        "id": "ZT3ky4Z3IP1a",
        "outputId": "5bb9867b-b79b-44d4-ef6c-5274e3e5f2ff"
      },
      "execution_count": 31,
      "outputs": [
        {
          "output_type": "stream",
          "name": "stdout",
          "text": [
            "Input: [0 0], Output: [0.05947401], Expected: [0]\n",
            "Input: [0 1], Output: [0.94705525], Expected: [1]\n",
            "Input: [1 0], Output: [0.94710331], Expected: [1]\n",
            "Input: [1 1], Output: [0.05537502], Expected: [0]\n"
          ]
        }
      ]
    },
    {
      "cell_type": "markdown",
      "source": [
        "B. Sentiment Analysis Using ANN on IMDb Movie Reviews\n",
        "(Link Provided at the top of the page to download the dataset Not mandatory to\n",
        "take all the instances of the dataset, You can trim the dataset)\n",
        "\n",
        "You are tasked with performing sentiment analysis on the IMDb movie review dataset using\n",
        "an Artificial Neural Network (ANN). The dataset contains movie reviews labeled as positive\n",
        "or negative."
      ],
      "metadata": {
        "id": "QoimZItZJGmY"
      }
    },
    {
      "cell_type": "code",
      "execution_count": 1,
      "metadata": {
        "id": "mlhRrdGo2YaG"
      },
      "outputs": [],
      "source": [
        "import numpy as np\n",
        "import pandas as pd\n",
        "import matplotlib.pyplot as plt\n",
        "import seaborn as sns"
      ]
    },
    {
      "cell_type": "code",
      "source": [
        "df = pd.read_csv('IMDB Dataset - IMDB Dataset.csv')\n",
        "print(df.head)"
      ],
      "metadata": {
        "colab": {
          "base_uri": "https://localhost:8080/"
        },
        "id": "KoGNPv_Q3Lzd",
        "outputId": "dd135a60-f7d8-4e92-a3a3-972d61fb570c"
      },
      "execution_count": 9,
      "outputs": [
        {
          "output_type": "stream",
          "name": "stdout",
          "text": [
            "<bound method NDFrame.head of                                                   review sentiment\n",
            "0      One of the other reviewers has mentioned that ...  positive\n",
            "1      A wonderful little production. <br /><br />The...  positive\n",
            "2      I thought this was a wonderful way to spend ti...  positive\n",
            "3      Basically there's a family where a little boy ...  negative\n",
            "4      Petter Mattei's \"Love in the Time of Money\" is...  positive\n",
            "...                                                  ...       ...\n",
            "49995  I thought this movie did a down right good job...  positive\n",
            "49996  Bad plot, bad dialogue, bad acting, idiotic di...  negative\n",
            "49997  I am a Catholic taught in parochial elementary...  negative\n",
            "49998  I'm going to have to disagree with the previou...  negative\n",
            "49999  No one expects the Star Trek movies to be high...  negative\n",
            "\n",
            "[50000 rows x 2 columns]>\n"
          ]
        }
      ]
    },
    {
      "cell_type": "markdown",
      "source": [
        "Design, implement, and evaluate an ANN model to classify the sentiment of IMDb\n",
        "movie reviews (positive or negative)."
      ],
      "metadata": {
        "id": "SjcNHTcMJMQw"
      }
    },
    {
      "cell_type": "code",
      "source": [
        "import numpy as np\n",
        "import pandas as pd\n",
        "from sklearn.model_selection import train_test_split\n",
        "from sklearn.preprocessing import LabelEncoder\n",
        "from tensorflow.keras.models import Sequential\n",
        "from tensorflow.keras.layers import Dense\n",
        "from tensorflow.keras.utils import to_categorical\n",
        "\n",
        "le = LabelEncoder()\n",
        "df['sentiment'] = le.fit_transform(df['sentiment'])"
      ],
      "metadata": {
        "id": "ag4brOCkAMFN"
      },
      "execution_count": 33,
      "outputs": []
    },
    {
      "cell_type": "code",
      "source": [
        "X = df['review']\n",
        "y = df['sentiment']\n",
        "X_train, X_test, y_train, y_test = train_test_split(X, y, test_size=0.2, random_state=42)"
      ],
      "metadata": {
        "id": "x9UBSBJpD80e"
      },
      "execution_count": 11,
      "outputs": []
    },
    {
      "cell_type": "code",
      "source": [
        "from sklearn.feature_extraction.text import TfidfVectorizer\n",
        "vectorizer = TfidfVectorizer(max_features=5000)\n",
        "X_train_vec = vectorizer.fit_transform(X_train)\n",
        "X_test_vec = vectorizer.transform(X_test)"
      ],
      "metadata": {
        "id": "dDddWu2cEDm9"
      },
      "execution_count": 12,
      "outputs": []
    },
    {
      "cell_type": "markdown",
      "source": [
        "Use One or more hidden layers with ReLU activation and an output layer with\n",
        "sigmoid activation for binary classification."
      ],
      "metadata": {
        "id": "5X0V0INlJctz"
      }
    },
    {
      "cell_type": "code",
      "source": [
        "model = Sequential()\n",
        "model.add(Dense(128, activation='relu', input_dim=X_train_vec.shape[1]))\n",
        "model.add(Dense(64, activation='relu'))\n",
        "model.add(Dense(32, activation='relu'))\n",
        "model.add(Dense(1, activation='sigmoid'))"
      ],
      "metadata": {
        "id": "jIW68eCZEJfi"
      },
      "execution_count": 16,
      "outputs": []
    },
    {
      "cell_type": "markdown",
      "source": [
        "Use the binary cross-entropy loss function for training the model.\n"
      ],
      "metadata": {
        "id": "2Ge8um6EJgPp"
      }
    },
    {
      "cell_type": "code",
      "source": [
        "model.compile(loss='binary_crossentropy', optimizer='adam', metrics=['accuracy'])\n",
        "model.fit(X_train_vec, y_train, epochs=10, batch_size=32, validation_split=0.1)"
      ],
      "metadata": {
        "colab": {
          "base_uri": "https://localhost:8080/"
        },
        "id": "VcrCoC8bEPMj",
        "outputId": "50f5931d-bd49-4479-82cd-4ef76284bab3"
      },
      "execution_count": 17,
      "outputs": [
        {
          "output_type": "stream",
          "name": "stdout",
          "text": [
            "Epoch 1/10\n",
            "\u001b[1m1125/1125\u001b[0m \u001b[32m━━━━━━━━━━━━━━━━━━━━\u001b[0m\u001b[37m\u001b[0m \u001b[1m15s\u001b[0m 11ms/step - accuracy: 0.8271 - loss: 0.3793 - val_accuracy: 0.8880 - val_loss: 0.2663\n",
            "Epoch 2/10\n",
            "\u001b[1m1125/1125\u001b[0m \u001b[32m━━━━━━━━━━━━━━━━━━━━\u001b[0m\u001b[37m\u001b[0m \u001b[1m13s\u001b[0m 12ms/step - accuracy: 0.9150 - loss: 0.2118 - val_accuracy: 0.8848 - val_loss: 0.2749\n",
            "Epoch 3/10\n",
            "\u001b[1m1125/1125\u001b[0m \u001b[32m━━━━━━━━━━━━━━━━━━━━\u001b[0m\u001b[37m\u001b[0m \u001b[1m14s\u001b[0m 12ms/step - accuracy: 0.9441 - loss: 0.1409 - val_accuracy: 0.8823 - val_loss: 0.3240\n",
            "Epoch 4/10\n",
            "\u001b[1m1125/1125\u001b[0m \u001b[32m━━━━━━━━━━━━━━━━━━━━\u001b[0m\u001b[37m\u001b[0m \u001b[1m13s\u001b[0m 12ms/step - accuracy: 0.9844 - loss: 0.0466 - val_accuracy: 0.8777 - val_loss: 0.5508\n",
            "Epoch 5/10\n",
            "\u001b[1m1125/1125\u001b[0m \u001b[32m━━━━━━━━━━━━━━━━━━━━\u001b[0m\u001b[37m\u001b[0m \u001b[1m21s\u001b[0m 12ms/step - accuracy: 0.9983 - loss: 0.0073 - val_accuracy: 0.8780 - val_loss: 0.7909\n",
            "Epoch 6/10\n",
            "\u001b[1m1125/1125\u001b[0m \u001b[32m━━━━━━━━━━━━━━━━━━━━\u001b[0m\u001b[37m\u001b[0m \u001b[1m13s\u001b[0m 12ms/step - accuracy: 0.9996 - loss: 0.0022 - val_accuracy: 0.8758 - val_loss: 0.9876\n",
            "Epoch 7/10\n",
            "\u001b[1m1125/1125\u001b[0m \u001b[32m━━━━━━━━━━━━━━━━━━━━\u001b[0m\u001b[37m\u001b[0m \u001b[1m14s\u001b[0m 12ms/step - accuracy: 0.9984 - loss: 0.0055 - val_accuracy: 0.8740 - val_loss: 0.8382\n",
            "Epoch 8/10\n",
            "\u001b[1m1125/1125\u001b[0m \u001b[32m━━━━━━━━━━━━━━━━━━━━\u001b[0m\u001b[37m\u001b[0m \u001b[1m12s\u001b[0m 11ms/step - accuracy: 0.9975 - loss: 0.0076 - val_accuracy: 0.8780 - val_loss: 0.8825\n",
            "Epoch 9/10\n",
            "\u001b[1m1125/1125\u001b[0m \u001b[32m━━━━━━━━━━━━━━━━━━━━\u001b[0m\u001b[37m\u001b[0m \u001b[1m22s\u001b[0m 12ms/step - accuracy: 0.9987 - loss: 0.0034 - val_accuracy: 0.8755 - val_loss: 0.9613\n",
            "Epoch 10/10\n",
            "\u001b[1m1125/1125\u001b[0m \u001b[32m━━━━━━━━━━━━━━━━━━━━\u001b[0m\u001b[37m\u001b[0m \u001b[1m14s\u001b[0m 12ms/step - accuracy: 0.9995 - loss: 0.0015 - val_accuracy: 0.8712 - val_loss: 1.0839\n"
          ]
        },
        {
          "output_type": "execute_result",
          "data": {
            "text/plain": [
              "<keras.src.callbacks.history.History at 0x793385705930>"
            ]
          },
          "metadata": {},
          "execution_count": 17
        }
      ]
    },
    {
      "cell_type": "code",
      "source": [
        "loss, accuracy = model.evaluate(X_test_vec, y_test)\n",
        "print('Test accuracy:', accuracy)"
      ],
      "metadata": {
        "colab": {
          "base_uri": "https://localhost:8080/"
        },
        "id": "SU3iR7Z0ETmU",
        "outputId": "d66a5cfd-6d68-45f4-ec71-2f39540578fd"
      },
      "execution_count": 15,
      "outputs": [
        {
          "output_type": "stream",
          "name": "stdout",
          "text": [
            "\u001b[1m313/313\u001b[0m \u001b[32m━━━━━━━━━━━━━━━━━━━━\u001b[0m\u001b[37m\u001b[0m \u001b[1m2s\u001b[0m 6ms/step - accuracy: 0.8819 - loss: 0.9987\n",
            "Test accuracy: 0.8792999982833862\n"
          ]
        }
      ]
    },
    {
      "cell_type": "code",
      "source": [
        "y_pred = model.predict(X_test_vec)\n",
        "y_pred = (y_pred > 0.5).astype(int)\n",
        "\n",
        "from sklearn.metrics import classification_report, confusion_matrix\n",
        "print(classification_report(y_test, y_pred))\n",
        "print(confusion_matrix(y_test, y_pred))"
      ],
      "metadata": {
        "colab": {
          "base_uri": "https://localhost:8080/"
        },
        "id": "X7eWw9JHE8V3",
        "outputId": "4075ad7d-8814-4b27-9818-425d783c1073"
      },
      "execution_count": 18,
      "outputs": [
        {
          "output_type": "stream",
          "name": "stdout",
          "text": [
            "\u001b[1m313/313\u001b[0m \u001b[32m━━━━━━━━━━━━━━━━━━━━\u001b[0m\u001b[37m\u001b[0m \u001b[1m1s\u001b[0m 4ms/step\n",
            "              precision    recall  f1-score   support\n",
            "\n",
            "           0       0.90      0.84      0.87      4961\n",
            "           1       0.85      0.91      0.88      5039\n",
            "\n",
            "    accuracy                           0.88     10000\n",
            "   macro avg       0.88      0.88      0.88     10000\n",
            "weighted avg       0.88      0.88      0.88     10000\n",
            "\n",
            "[[4169  792]\n",
            " [ 453 4586]]\n"
          ]
        }
      ]
    },
    {
      "cell_type": "markdown",
      "source": [
        "\n",
        "**II. Sentiment Analysis Using ANN**\n",
        "\n",
        "**1. Load the Dataset and Preprocess**  \n",
        "Load the IMDb movie reviews dataset.\n",
        "\n",
        "**2. Encode Sentiment Labels**  \n",
        "Encode the sentiment labels ('positive', 'negative') as numerical values\n",
        "\n",
        "**3. Split Data**  \n",
        "The dataset is split into training and testing sets.\n",
        "\n",
        "**4. Vectorize Text Reviews**  \n",
        "Text data (movie reviews) needs to be converted into numerical representations to be used by the neural network.\n",
        "\n",
        "**5. Create the ANN Model**  \n",
        "Create a Sequential model from Keras.  \n",
        "Use Dense layers for the neural network.  \n",
        "The first hidden layer has 128 neurons with ReLU activation.  \n",
        "The subsequent hidden layers have 64 and 32 neurons with ReLU activation.  \n",
        "The output layer has 1 neuron with sigmoid activation to classify whether the sentiment is positive or negative.\n",
        "\n",
        "**6. Compile the Model**  \n",
        "The model is compiled with:\n",
        "- binary_crossentropy: This is an appropriate loss function for binary classification (positive or negative sentiment).\n",
        "\n",
        "\n",
        "**7. Train the Model**  \n",
        "The model is trained on the training data.  \n",
        "Train the model for a 10 number of epochs with a specific batch size.\n",
        "\n",
        "**8. Evaluate the Model**  \n",
        "Evaluate the model on the testing set to assess its performance on unseen data."
      ],
      "metadata": {
        "id": "csSvUwx5KS3y"
      }
    },
    {
      "cell_type": "markdown",
      "source": [
        "**Visualization**"
      ],
      "metadata": {
        "id": "QhHxhshVMHiN"
      }
    },
    {
      "cell_type": "code",
      "source": [
        "\n",
        "\n",
        "plt.figure(figsize=(6, 4))\n",
        "sns.countplot(x='sentiment', data=df)\n",
        "plt.title('Distribution of Sentiment Labels')\n",
        "plt.xlabel('Sentiment')\n",
        "plt.ylabel('Count')\n",
        "plt.show()\n",
        "\n",
        "df['review_length'] = df['review'].apply(len)\n",
        "plt.figure(figsize=(8, 6))\n",
        "sns.histplot(df['review_length'], bins=50)\n",
        "plt.title('Distribution of Review Lengths')\n",
        "plt.xlabel('Review Length')\n",
        "plt.ylabel('Count')\n",
        "plt.show()\n",
        "\n",
        "\n",
        "\n",
        "cm = confusion_matrix(y_test, y_pred)\n",
        "plt.figure(figsize=(6, 4))\n",
        "sns.heatmap(cm, annot=True, fmt='d', cmap='Blues')\n",
        "plt.title('Confusion Matrix')\n",
        "plt.xlabel('Predicted Label')\n",
        "plt.ylabel('True Label')\n",
        "plt.show()\n",
        "\n"
      ],
      "metadata": {
        "colab": {
          "base_uri": "https://localhost:8080/",
          "height": 1000
        },
        "id": "UrAMS-tyJlMd",
        "outputId": "9523a6fe-6a77-4b4f-a919-090f0a521dac"
      },
      "execution_count": 32,
      "outputs": [
        {
          "output_type": "display_data",
          "data": {
            "text/plain": [
              "<Figure size 600x400 with 1 Axes>"
            ],
            "image/png": "[encoded data removed]"
          },
          "metadata": {}
        },
        {
          "output_type": "display_data",
          "data": {
            "text/plain": [
              "<Figure size 800x600 with 1 Axes>"
            ],
            "image/png": "[encoded data removed]"
          },
          "metadata": {}
        },
        {
          "output_type": "display_data",
          "data": {
            "text/plain": [
              "<Figure size 600x400 with 2 Axes>"
            ],
            "image/png": "[encoded data removed]"
          },
          "metadata": {}
        }
      ]
    }
  ]
}